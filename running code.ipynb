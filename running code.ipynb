{
 "cells": [
  {
   "cell_type": "code",
   "execution_count": 1,
   "metadata": {},
   "outputs": [
    {
     "name": "stderr",
     "output_type": "stream",
     "text": [
      "Using TensorFlow backend.\n",
      "c:\\users\\user pc\\freelancing\\lib\\site-packages\\tensorflow\\python\\framework\\dtypes.py:516: FutureWarning: Passing (type, 1) or '1type' as a synonym of type is deprecated; in a future version of numpy, it will be understood as (type, (1,)) / '(1,)type'.\n",
      "  _np_qint8 = np.dtype([(\"qint8\", np.int8, 1)])\n",
      "c:\\users\\user pc\\freelancing\\lib\\site-packages\\tensorflow\\python\\framework\\dtypes.py:517: FutureWarning: Passing (type, 1) or '1type' as a synonym of type is deprecated; in a future version of numpy, it will be understood as (type, (1,)) / '(1,)type'.\n",
      "  _np_quint8 = np.dtype([(\"quint8\", np.uint8, 1)])\n",
      "c:\\users\\user pc\\freelancing\\lib\\site-packages\\tensorflow\\python\\framework\\dtypes.py:518: FutureWarning: Passing (type, 1) or '1type' as a synonym of type is deprecated; in a future version of numpy, it will be understood as (type, (1,)) / '(1,)type'.\n",
      "  _np_qint16 = np.dtype([(\"qint16\", np.int16, 1)])\n",
      "c:\\users\\user pc\\freelancing\\lib\\site-packages\\tensorflow\\python\\framework\\dtypes.py:519: FutureWarning: Passing (type, 1) or '1type' as a synonym of type is deprecated; in a future version of numpy, it will be understood as (type, (1,)) / '(1,)type'.\n",
      "  _np_quint16 = np.dtype([(\"quint16\", np.uint16, 1)])\n",
      "c:\\users\\user pc\\freelancing\\lib\\site-packages\\tensorflow\\python\\framework\\dtypes.py:520: FutureWarning: Passing (type, 1) or '1type' as a synonym of type is deprecated; in a future version of numpy, it will be understood as (type, (1,)) / '(1,)type'.\n",
      "  _np_qint32 = np.dtype([(\"qint32\", np.int32, 1)])\n",
      "c:\\users\\user pc\\freelancing\\lib\\site-packages\\tensorflow\\python\\framework\\dtypes.py:525: FutureWarning: Passing (type, 1) or '1type' as a synonym of type is deprecated; in a future version of numpy, it will be understood as (type, (1,)) / '(1,)type'.\n",
      "  np_resource = np.dtype([(\"resource\", np.ubyte, 1)])\n",
      "c:\\users\\user pc\\freelancing\\lib\\site-packages\\tensorboard\\compat\\tensorflow_stub\\dtypes.py:541: FutureWarning: Passing (type, 1) or '1type' as a synonym of type is deprecated; in a future version of numpy, it will be understood as (type, (1,)) / '(1,)type'.\n",
      "  _np_qint8 = np.dtype([(\"qint8\", np.int8, 1)])\n",
      "c:\\users\\user pc\\freelancing\\lib\\site-packages\\tensorboard\\compat\\tensorflow_stub\\dtypes.py:542: FutureWarning: Passing (type, 1) or '1type' as a synonym of type is deprecated; in a future version of numpy, it will be understood as (type, (1,)) / '(1,)type'.\n",
      "  _np_quint8 = np.dtype([(\"quint8\", np.uint8, 1)])\n",
      "c:\\users\\user pc\\freelancing\\lib\\site-packages\\tensorboard\\compat\\tensorflow_stub\\dtypes.py:543: FutureWarning: Passing (type, 1) or '1type' as a synonym of type is deprecated; in a future version of numpy, it will be understood as (type, (1,)) / '(1,)type'.\n",
      "  _np_qint16 = np.dtype([(\"qint16\", np.int16, 1)])\n",
      "c:\\users\\user pc\\freelancing\\lib\\site-packages\\tensorboard\\compat\\tensorflow_stub\\dtypes.py:544: FutureWarning: Passing (type, 1) or '1type' as a synonym of type is deprecated; in a future version of numpy, it will be understood as (type, (1,)) / '(1,)type'.\n",
      "  _np_quint16 = np.dtype([(\"quint16\", np.uint16, 1)])\n",
      "c:\\users\\user pc\\freelancing\\lib\\site-packages\\tensorboard\\compat\\tensorflow_stub\\dtypes.py:545: FutureWarning: Passing (type, 1) or '1type' as a synonym of type is deprecated; in a future version of numpy, it will be understood as (type, (1,)) / '(1,)type'.\n",
      "  _np_qint32 = np.dtype([(\"qint32\", np.int32, 1)])\n",
      "c:\\users\\user pc\\freelancing\\lib\\site-packages\\tensorboard\\compat\\tensorflow_stub\\dtypes.py:550: FutureWarning: Passing (type, 1) or '1type' as a synonym of type is deprecated; in a future version of numpy, it will be understood as (type, (1,)) / '(1,)type'.\n",
      "  np_resource = np.dtype([(\"resource\", np.ubyte, 1)])\n"
     ]
    }
   ],
   "source": [
    "\n",
    "import skvideo.io\n",
    "import keras.backend as K\n",
    "from keras.models import Sequential\n",
    "from keras.utils.data_utils import get_file\n",
    "from keras.layers.core import Dense, Dropout, Flatten\n",
    "from sports1M_utils import preprocess_input, decode_predictions\n",
    "from keras.layers.convolutional import Conv3D, MaxPooling3D, ZeroPadding3D\n",
    "\n",
    "WEIGHTS_PATH = 'https://github.com/adamcasson/c3d/releases/download/v0.1/sports1M_weights_tf.h5'\n",
    "\n"
   ]
  },
  {
   "cell_type": "code",
   "execution_count": 2,
   "metadata": {},
   "outputs": [],
   "source": [
    "def C3D(weights='sports1M'):\n",
    "    \"\"\"Instantiates a C3D Kerasl model\n",
    "    \n",
    "    Keyword arguments:\n",
    "    weights -- weights to load into model. (default is sports1M)\n",
    "    \n",
    "    Returns:\n",
    "    A Keras model.\n",
    "    \n",
    "    \"\"\"\n",
    "    \n",
    "    if weights not in {'sports1M', None}:\n",
    "        raise ValueError('weights should be either be sports1M or None')\n",
    "    \n",
    "    if K.image_data_format() == 'channels_last':\n",
    "        shape = (16,112,112,3)\n",
    "    else:\n",
    "        shape = (3,16,112,112)\n",
    "        \n",
    "    model = Sequential()\n",
    "    model.add(Conv3D(64, 3, activation='relu', padding='same', name='conv1', input_shape=shape))\n",
    "    model.add(MaxPooling3D(pool_size=(1,2,2), strides=(1,2,2), padding='same', name='pool1'))\n",
    "    \n",
    "    model.add(Conv3D(128, 3, activation='relu', padding='same', name='conv2'))\n",
    "    model.add(MaxPooling3D(pool_size=(2,2,2), strides=(2,2,2), padding='valid', name='pool2'))\n",
    "    \n",
    "    model.add(Conv3D(256, 3, activation='relu', padding='same', name='conv3a'))\n",
    "    model.add(Conv3D(256, 3, activation='relu', padding='same', name='conv3b'))\n",
    "    model.add(MaxPooling3D(pool_size=(2,2,2), strides=(2,2,2), padding='valid', name='pool3'))\n",
    "    \n",
    "    model.add(Conv3D(512, 3, activation='relu', padding='same', name='conv4a'))\n",
    "    model.add(Conv3D(512, 3, activation='relu', padding='same', name='conv4b'))\n",
    "    model.add(MaxPooling3D(pool_size=(2,2,2), strides=(2,2,2), padding='valid', name='pool4'))\n",
    "    \n",
    "    model.add(Conv3D(512, 3, activation='relu', padding='same', name='conv5a'))\n",
    "    model.add(Conv3D(512, 3, activation='relu', padding='same', name='conv5b'))\n",
    "    model.add(ZeroPadding3D(padding=(0,1,1)))\n",
    "    model.add(MaxPooling3D(pool_size=(2,2,2), strides=(2,2,2), padding='valid', name='pool5'))\n",
    "    \n",
    "    model.add(Flatten())\n",
    "    \n",
    "    model.add(Dense(4096, activation='relu', name='fc6'))\n",
    "    model.add(Dropout(0.5))\n",
    "    model.add(Dense(4096, activation='relu', name='fc7'))\n",
    "    model.add(Dropout(0.5))\n",
    "    model.add(Dense(487, activation='softmax', name='fc8'))\n",
    "\n",
    "    if weights == 'sports1M':\n",
    "        weights_path = get_file('sports1M_weights_tf.h5',\n",
    "                                WEIGHTS_PATH,\n",
    "                                cache_subdir='models',\n",
    "                                md5_hash='b7a93b2f9156ccbebe3ca24b41fc5402')\n",
    "        \n",
    "        model.load_weights(weights_path)\n",
    "    \n",
    "    return model\n",
    "    "
   ]
  },
  {
   "cell_type": "code",
   "execution_count": 3,
   "metadata": {},
   "outputs": [],
   "source": [
    "model = C3D(weights='sports1M')"
   ]
  },
  {
   "cell_type": "code",
   "execution_count": 107,
   "metadata": {},
   "outputs": [],
   "source": [
    "with open('sports1M_classes.txt' , encoding = 'utf-8') as my_file:\n",
    "    for line in my_file:\n",
    "        labels.append(line)"
   ]
  },
  {
   "cell_type": "code",
   "execution_count": 143,
   "metadata": {},
   "outputs": [],
   "source": [
    "def get_frames_features(video_file):\n",
    "    \n",
    "    vidcap = cv2.VideoCapture(video_file)\n",
    "    length = int(vidcap.get(cv2.CAP_PROP_FRAME_COUNT))\n",
    "    success,image = vidcap.read()\n",
    "\n",
    "    seconds = 5\n",
    "    fps = vidcap.get(cv2.CAP_PROP_FPS) # Gets the frames per second\n",
    "    multiplier = fps * seconds\n",
    "\n",
    "    while success:\n",
    "        frameId = int(round(vidcap.get(1))) \n",
    "        success, image = vidcap.read()\n",
    "\n",
    "        if frameId % multiplier == 0:\n",
    "            cv2.imwrite(\"frame%d.jpg\" % frameId, image)\n",
    "\n",
    "    vidcap.release()\n",
    "    return fps , seconds ,length\n",
    "    print(\"fps\" , fps) \n",
    "    print(\"seconds\" ,seconds)\n",
    "    print(\"Total frames\",length)\n",
    "    "
   ]
  },
  {
   "cell_type": "code",
   "execution_count": 163,
   "metadata": {},
   "outputs": [],
   "source": [
    "def get_video_features(video_path):\n",
    "    number = 0\n",
    "    fps,seconds,length = get_frames_features(video_path)\n",
    "    for i in range(int(fps * seconds) ,length , int(fps *seconds)):\n",
    "        number +=int(fps * seconds)\n",
    "        vid = skvideo.io.vread('frame{}.jpg'.format(i))\n",
    "        vid = np.resize(vid,(16,112,112,3))\n",
    "        vid = np.expand_dims(vid ,axis=0)\n",
    "        preds = model.predict(vid)\n",
    "        label_index = np.argmax(preds)\n",
    "        print(\"The predicted label for frame {} is {} \" .format( number , labels[label_index]))"
   ]
  }
 ],
 "metadata": {
  "kernelspec": {
   "display_name": "Python 3",
   "language": "python",
   "name": "python3"
  },
  "language_info": {
   "codemirror_mode": {
    "name": "ipython",
    "version": 3
   },
   "file_extension": ".py",
   "mimetype": "text/x-python",
   "name": "python",
   "nbconvert_exporter": "python",
   "pygments_lexer": "ipython3",
   "version": "3.7.7"
  }
 },
 "nbformat": 4,
 "nbformat_minor": 4
}
